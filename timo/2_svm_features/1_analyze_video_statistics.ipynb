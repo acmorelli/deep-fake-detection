{
 "cells": [
  {
   "cell_type": "code",
   "execution_count": 1060,
   "id": "dde3de5c",
   "metadata": {},
   "outputs": [],
   "source": [
    "selector = 4\n",
    "dataset = [ 'faceshifter_c23_100',    # 0 — OK\n",
    "            'faceshifter_raw_100',    # 1 — OK\n",
    "            'faceshifter_raw_200',    # 2 — OK\n",
    "            \n",
    "            'neuraltextures_c23_100', # 3 — IMBALANCE\n",
    "            'neuraltextures_raw_100', # 4 — IMBALANCE\n",
    "           ]\n",
    "\n",
    "# video statistics (e.g. FPS per video)\n",
    "path_video_stats_manipulated = '2_rPPG/'+dataset[selector]+'/stats/video_statistics_manipulated.csv'\n",
    "path_video_stats_original = '2_rPPG/'+dataset[selector]+'/stats/video_statistics_original.csv'\n",
    "\n",
    "# GRGB folders\n",
    "path_GRGB_manipulated = '2_rPPG/'+dataset[selector]+'/manipulated'\n",
    "path_GRGB_original = '2_rPPG/'+dataset[selector]+'/original'\n",
    "\n",
    "import matplotlib.pyplot as plt\n",
    "import pandas as pd"
   ]
  },
  {
   "cell_type": "code",
   "execution_count": 1061,
   "id": "e5c6504a",
   "metadata": {},
   "outputs": [
    {
     "name": "stdout",
     "output_type": "stream",
     "text": [
      "MANIPULATED\n",
      "Mean Duration: 15.031733333333333\n",
      "Standard Deviation: 4.411916230114622\n",
      "Minimum Duration: 9.566666666666666\n",
      "Maximum Duration: 30.52\n",
      "Median Duration: 13.683333333333334\n",
      "Range of Duration: 20.953333333333333\n",
      "25th Percentile: 11.966666666666669\n",
      "50th Percentile (Median): 13.683333333333334\n",
      "75th Percentile: 17.2\n"
     ]
    }
   ],
   "source": [
    "df = pd.read_csv(path_video_stats_manipulated)\n",
    "duration_manipulated = df['Duration']\n",
    "\n",
    "# calculate descriptive statistics\n",
    "mean_duration = duration_manipulated.mean()\n",
    "std_duration = duration_manipulated.std()\n",
    "min_duration = duration_manipulated.min()\n",
    "max_duration = duration_manipulated.max()\n",
    "median_duration = duration_manipulated.median()\n",
    "quantiles = duration_manipulated.quantile([0.25, 0.5, 0.75])  # 25th, 50th, 75th percentiles\n",
    "range_duration = max_duration - min_duration\n",
    "\n",
    "print('MANIPULATED')\n",
    "print(f\"Mean Duration: {mean_duration}\")\n",
    "print(f\"Standard Deviation: {std_duration}\")\n",
    "print(f\"Minimum Duration: {min_duration}\")\n",
    "print(f\"Maximum Duration: {max_duration}\")\n",
    "print(f\"Median Duration: {median_duration}\")\n",
    "print(f\"Range of Duration: {range_duration}\")\n",
    "print(f\"25th Percentile: {quantiles[0.25]}\")\n",
    "print(f\"50th Percentile (Median): {quantiles[0.5]}\")\n",
    "print(f\"75th Percentile: {quantiles[0.75]}\")\n"
   ]
  },
  {
   "cell_type": "code",
   "execution_count": 1062,
   "id": "241759b4",
   "metadata": {},
   "outputs": [],
   "source": [
    "pd.set_option('display.max_rows', None)  # None removes the limit\n",
    "df_sorted_manipulated = df.sort_values(by='Duration')\n",
    "#print(df_sorted_manipulated[['Filename', 'Duration']])"
   ]
  },
  {
   "cell_type": "code",
   "execution_count": 1063,
   "id": "df9eb284",
   "metadata": {},
   "outputs": [
    {
     "name": "stdout",
     "output_type": "stream",
     "text": [
      "ORIGINAL\n",
      "Mean Duration: 19.286666666666665\n",
      "Standard Deviation: 8.270401187516187\n",
      "Minimum Duration: 9.566666666666666\n",
      "Maximum Duration: 49.92\n",
      "Median Duration: 17.053333333333335\n",
      "Range of Duration: 40.35333333333334\n",
      "25th Percentile: 13.306666666666667\n",
      "50th Percentile (Median): 17.053333333333335\n",
      "75th Percentile: 22.349999999999998\n"
     ]
    }
   ],
   "source": [
    "df = pd.read_csv(path_video_stats_original)\n",
    "duration_original = df['Duration']\n",
    "\n",
    "# calculate descriptive statistics\n",
    "mean_duration = duration_original.mean()\n",
    "std_duration = duration_original.std()\n",
    "min_duration = duration_original.min()\n",
    "max_duration = duration_original.max()\n",
    "median_duration = duration_original.median()\n",
    "quantiles = duration_original.quantile([0.25, 0.5, 0.75])  # 25th, 50th, 75th percentiles\n",
    "range_duration = max_duration - min_duration\n",
    "\n",
    "print('ORIGINAL')\n",
    "print(f\"Mean Duration: {mean_duration}\")\n",
    "print(f\"Standard Deviation: {std_duration}\")\n",
    "print(f\"Minimum Duration: {min_duration}\")\n",
    "print(f\"Maximum Duration: {max_duration}\")\n",
    "print(f\"Median Duration: {median_duration}\")\n",
    "print(f\"Range of Duration: {range_duration}\")\n",
    "print(f\"25th Percentile: {quantiles[0.25]}\")\n",
    "print(f\"50th Percentile (Median): {quantiles[0.5]}\")\n",
    "print(f\"75th Percentile: {quantiles[0.75]}\")\n"
   ]
  },
  {
   "cell_type": "code",
   "execution_count": 1064,
   "id": "0c42a6d6",
   "metadata": {},
   "outputs": [
    {
     "name": "stdout",
     "output_type": "stream",
     "text": [
      "   Manipulated            Original           \n",
      "      Filename   Duration Filename   Duration\n",
      "0      134_192   9.566667      192   9.566667\n",
      "1      192_134   9.566667      241   9.733333\n",
      "2      210_241   9.733333      263  10.000000\n",
      "3      241_210   9.733333      683  10.066667\n",
      "4      284_263  10.000000      441  10.166667\n",
      "5      263_284  10.000000      677  10.466667\n",
      "6      683_607  10.066667      272  10.766667\n",
      "7      607_683  10.066667      044  11.166667\n",
      "8      441_439  10.166667      529  11.166667\n",
      "9      439_441  10.166667      434  11.233333\n",
      "10     677_671  10.466667      671  11.433333\n",
      "11     671_677  10.466667      134  11.533333\n",
      "12     396_272  10.766667      572  11.566667\n",
      "13     272_396  10.766667      109  11.920000\n",
      "14     529_633  11.166667      585  11.966667\n",
      "15     633_529  11.166667      904  11.966667\n",
      "16     945_044  11.166667      779  12.240000\n",
      "17     044_945  11.166667      994  12.640000\n",
      "18     434_438  11.233333      974  12.720000\n",
      "19     438_434  11.233333      828  12.760000\n",
      "20     554_572  11.566667      159  13.000000\n",
      "21     572_554  11.566667      183  13.000000\n",
      "22     107_109  11.920000      055  13.133333\n",
      "23     109_107  11.920000      337  13.240000\n",
      "24     904_046  11.966667      599  13.266667\n",
      "25     046_904  11.966667      897  13.320000\n",
      "26     585_599  11.966667      036  13.480000\n",
      "27     599_585  11.966667      222  13.566667\n",
      "28     779_794  12.240000      469  13.800000\n",
      "29     794_779  12.240000      481  13.800000\n",
      "30     994_986  12.640000      953  14.040000\n",
      "31     986_994  12.640000      062  14.100000\n",
      "32     953_974  12.720000      969  14.240000\n",
      "33     974_953  12.720000      066  14.500000\n",
      "34     830_828  12.760000      920  14.840000\n",
      "35     828_830  12.760000      556  14.880000\n",
      "36     253_183  13.000000      607  15.133333\n",
      "37     183_253  13.000000      651  15.200000\n",
      "38     159_175  13.000000      339  15.233333\n",
      "39     175_159  13.000000      980  15.320000\n",
      "40     147_055  13.133333      439  15.400000\n",
      "41     055_147  13.133333      360  15.400000\n",
      "42     522_337  13.240000      284  16.100000\n",
      "43     337_522  13.240000      654  16.400000\n",
      "44     897_969  13.320000      644  16.520000\n",
      "45     969_897  13.320000      253  16.700000\n",
      "46     035_036  13.480000      046  16.800000\n",
      "47     036_035  13.480000      035  16.920000\n",
      "48     222_168  13.566667      866  16.966667\n",
      "49     168_222  13.566667      835  17.040000\n",
      "50     469_481  13.800000      633  17.066667\n",
      "51     481_469  13.800000      254  17.080000\n",
      "52     066_062  14.100000      565  17.200000\n",
      "53     062_066  14.100000      396  17.500000\n",
      "54     920_811  14.840000      917  17.920000\n",
      "55     811_920  14.840000      672  18.033333\n",
      "56     588_556  14.880000      438  18.066667\n",
      "57     556_588  14.880000      150  18.240000\n",
      "58     651_835  15.200000      266  18.600000\n",
      "59     835_651  15.200000      943  18.800000\n",
      "60     339_392  15.233333      720  18.800000\n",
      "61     392_339  15.233333      648  18.840000\n",
      "62     980_992  15.320000      435  19.040000\n",
      "63     992_980  15.320000      097  19.120000\n",
      "64     360_437  15.400000      942  19.800000\n",
      "65     437_360  15.400000      175  20.160000\n",
      "66     648_654  16.400000      830  20.440000\n",
      "67     654_648  16.400000      896  21.240000\n",
      "68     657_644  16.520000      811  21.680000\n",
      "69     644_657  16.520000      288  21.720000\n",
      "70     866_878  16.966667      588  21.760000\n",
      "71     878_866  16.966667      657  21.840000\n",
      "72     254_261  17.080000      712  22.000000\n",
      "73     261_254  17.080000      147  22.233333\n",
      "74     565_589  17.200000      107  22.240000\n",
      "75     589_565  17.200000      321  22.680000\n",
      "76     924_917  17.920000      252  22.880000\n",
      "77     917_924  17.920000      437  23.720000\n",
      "78     720_672  18.033333      456  24.320000\n",
      "79     672_720  18.033333      878  24.533333\n",
      "80     153_150  18.240000      716  25.120000\n",
      "81     150_153  18.240000      945  25.366667\n",
      "82     252_266  18.600000      261  27.080000\n",
      "83     266_252  18.600000      589  27.440000\n",
      "84     943_942  18.800000      554  27.600000\n",
      "85     942_943  18.800000      210  27.966667\n",
      "86     456_435  19.040000      522  28.520000\n",
      "87     435_456  19.040000      206  28.560000\n",
      "88     097_033  19.120000      992  28.720000\n",
      "89     033_097  19.120000      221  28.720000\n",
      "90     896_128  21.240000      153  29.280000\n",
      "91     128_896  21.240000      128  29.400000\n",
      "92     288_321  21.720000      257  30.520000\n",
      "93     321_288  21.720000      033  32.360000\n",
      "94     716_712  22.000000      986  33.120000\n",
      "95     712_716  22.000000      794  35.160000\n",
      "96     206_221  28.560000      168  40.933333\n",
      "97     221_206  28.560000      420  45.040000\n",
      "98     420_257  30.520000      392  49.866667\n",
      "99     257_420  30.520000      924  49.920000\n"
     ]
    }
   ],
   "source": [
    "pd.set_option('display.max_rows', None)  # None removes the limit\n",
    "df_sorted_original = df.sort_values(by='Duration')\n",
    "\n",
    "df_sorted_manipulated['Filename'] = df_sorted_manipulated['Filename'].astype(str)\n",
    "df_sorted_original['Filename'] = df_sorted_original['Filename'].astype(str).str.zfill(3) # keep leading zeros\n",
    "df_sorted_manipulated = df_sorted_manipulated[['Filename', 'Duration']]\n",
    "df_sorted_original = df_sorted_original[['Filename', 'Duration']]\n",
    "\n",
    "df_sorted_manipulated = df_sorted_manipulated.reset_index(drop=True)\n",
    "df_sorted_original = df_sorted_original.reset_index(drop=True)\n",
    "\n",
    "df_combined = pd.concat([df_sorted_manipulated, df_sorted_original], axis=1, keys=['Manipulated', 'Original'])\n",
    "print(df_combined)\n"
   ]
  },
  {
   "cell_type": "code",
   "execution_count": 1065,
   "id": "0257ab97",
   "metadata": {},
   "outputs": [
    {
     "name": "stdout",
     "output_type": "stream",
     "text": [
      "100 100\n"
     ]
    }
   ],
   "source": [
    "print(len(duration_original),len(duration_manipulated))"
   ]
  },
  {
   "cell_type": "code",
   "execution_count": 1066,
   "id": "83e78ad4",
   "metadata": {},
   "outputs": [
    {
     "name": "stdout",
     "output_type": "stream",
     "text": [
      "Duration for filename '134':\n",
      "11.533333\n"
     ]
    }
   ],
   "source": [
    "# Filter for the specific filename\n",
    "filename_to_search = '134'\n",
    "duration_for_filename = df_sorted_original[df_sorted_original['Filename'] == filename_to_search]['Duration']\n",
    "\n",
    "print(f\"Duration for filename '{filename_to_search}':\")\n",
    "print(duration_for_filename.to_string(index=False))"
   ]
  },
  {
   "cell_type": "code",
   "execution_count": 1067,
   "id": "012bf38e",
   "metadata": {},
   "outputs": [
    {
     "name": "stdout",
     "output_type": "stream",
     "text": [
      "Durations for filenames starting with '192':\n",
      "  Filename  Duration\n",
      "1  192_134  9.566667\n"
     ]
    }
   ],
   "source": [
    "# Filter for filenames starting with '052_'\n",
    "filename_prefix = '192'\n",
    "filtered_df = df_sorted_manipulated[df_sorted_manipulated['Filename'].str.startswith(filename_prefix)]\n",
    "\n",
    "print(f\"Durations for filenames starting with '{filename_prefix}':\")\n",
    "print(filtered_df[['Filename', 'Duration']])"
   ]
  },
  {
   "cell_type": "code",
   "execution_count": 1068,
   "id": "30d02764",
   "metadata": {},
   "outputs": [
    {
     "data": {
      "text/plain": [
       "' \\nneuraltextures_c23_100\\n\\ntarget_source\\n\\n027_009      10.5\\n027          10.5           √\\n\\n009_027      10.5\\n009          19.6           X\\n\\n—————————\\n\\n054_071      12.266667\\n054          12.266667      √\\n\\n071_054      12.266667      \\n071          15.1           X\\n\\n= they are taking the min duration of the target/source files\\n\\n\\n====================\\nfaceshifter_raw_100\\n\\ntarget_source\\n\\n134_192  11.533333\\n134      11.533333          √\\n\\n192_134  9.566667\\n192      9.566667           √\\n\\n= they are taking the duration of the target file\\n\\n\\n'"
      ]
     },
     "execution_count": 1068,
     "metadata": {},
     "output_type": "execute_result"
    }
   ],
   "source": [
    "''' \n",
    "neuraltextures_c23_100\n",
    "\n",
    "target_source\n",
    "\n",
    "027_009      10.5\n",
    "027          10.5           √\n",
    "\n",
    "009_027      10.5\n",
    "009          19.6           X\n",
    "\n",
    "—————————\n",
    "\n",
    "054_071      12.266667\n",
    "054          12.266667      √\n",
    "\n",
    "071_054      12.266667      \n",
    "071          15.1           X\n",
    "\n",
    "= they are taking the min duration of the target/source files\n",
    "\n",
    "\n",
    "====================\n",
    "faceshifter_raw_100\n",
    "\n",
    "target_source\n",
    "\n",
    "134_192  11.533333\n",
    "134      11.533333          √\n",
    "\n",
    "192_134  9.566667\n",
    "192      9.566667           √\n",
    "\n",
    "= they are taking the duration of the target file\n",
    "\n",
    "\n",
    "'''"
   ]
  },
  {
   "cell_type": "code",
   "execution_count": 1069,
   "id": "aa15443c",
   "metadata": {},
   "outputs": [],
   "source": [
    "# bin_size = 20\n",
    "# bin_range = (0, 50)\n",
    "# bins = 20 \n",
    "# plt.hist(duration_original, color='blue', bins=bins, range=bin_range, alpha=0.3, hatch='////',label='original',edgecolor='blue', linewidth=0)  # original\n",
    "# plt.hist(duration_manipulated, color='red', bins=bins, range=bin_range, alpha=0.4,hatch='\\\\\\\\\\\\', label='manipulated',edgecolor='red',linewidth=0)  # manipulated\n",
    "# plt.title(f'Durations ({dataset[selector]})')\n",
    "# plt.xlabel('Duration')\n",
    "# plt.ylabel('Amount of Videos')\n",
    "# plt.legend()\n",
    "# plt.show()\n"
   ]
  },
  {
   "cell_type": "code",
   "execution_count": 1070,
   "id": "bb4c6ff0",
   "metadata": {},
   "outputs": [
    {
     "data": {
      "image/png": "[encoded data removed]",
      "text/plain": [
       "<Figure size 1000x600 with 1 Axes>"
      ]
     },
     "metadata": {},
     "output_type": "display_data"
    }
   ],
   "source": [
    "import matplotlib.pyplot as plt\n",
    "\n",
    "# Step 1: Define the common bin range\n",
    "bin_range = (0, duration_original.max())  # Assuming both datasets range from 0 to 50\n",
    "bins = 20  # Define the number of bins (you can adjust this)\n",
    "\n",
    "plt.figure(figsize=(10, 6))\n",
    "plt.hist(duration_manipulated, bins=bins, range=bin_range, alpha=0.5, label='manipulated', color='red')\n",
    "plt.hist(duration_original, bins=bins, range=bin_range, alpha=0.5, label='original', color='blue')\n",
    "plt.hist(duration_manipulated, bins=bins, range=bin_range, alpha=0.5, color='red')\n",
    "plt.hist(duration_original, bins=bins, range=bin_range, alpha=0.5, color='blue')\n",
    "# plt.hist(duration_manipulated, bins=bins, range=bin_range, alpha=0.5, label='manipulated', color='red', edgecolor='red',hatch='\\\\\\\\\\\\',linewidth=0)\n",
    "# plt.hist(duration_original, bins=bins, range=bin_range, alpha=0.5, label='original', color='blue', edgecolor='blue',hatch='////',linewidth=0)\n",
    "\n",
    "plt.xlabel('Duration')\n",
    "plt.ylabel('Frequency')\n",
    "plt.title(f'Comparison: Original/Manipulated of {dataset[selector]}')\n",
    "plt.legend()\n",
    "plt.show()\n"
   ]
  },
  {
   "cell_type": "code",
   "execution_count": 1071,
   "id": "ae96eee7",
   "metadata": {},
   "outputs": [
    {
     "data": {
      "image/png": "[encoded data removed]",
      "text/plain": [
       "<Figure size 600x200 with 1 Axes>"
      ]
     },
     "metadata": {},
     "output_type": "display_data"
    }
   ],
   "source": [
    "plt.figure(figsize=(6, 2)) \n",
    "y_original = [1] * len(duration_original)  # all original points will be at y = 1\n",
    "y_manipulated = [0] * len(duration_manipulated)  # all manipulated points will be at y = 0\n",
    "\n",
    "plt.scatter(duration_original, y_original, color='blue', alpha=0.6, label='Original', edgecolors='blue')\n",
    "plt.scatter(duration_manipulated, y_manipulated, color='red', alpha=0.6, label='Manipulated', edgecolors='red')\n",
    "\n",
    "plt.title(f'Durations by Class ({dataset[selector]})')\n",
    "plt.xlabel('Duration')\n",
    "plt.ylabel('Class')\n",
    "plt.yticks([0, 1], ['Manipulated', 'Original'])\n",
    "plt.show()\n"
   ]
  }
 ],
 "metadata": {
  "kernelspec": {
   "display_name": "Python 3 (ipykernel)",
   "language": "python",
   "name": "python3"
  },
  "language_info": {
   "codemirror_mode": {
    "name": "ipython",
    "version": 3
   },
   "file_extension": ".py",
   "mimetype": "text/x-python",
   "name": "python",
   "nbconvert_exporter": "python",
   "pygments_lexer": "ipython3",
   "version": "3.9.6"
  }
 },
 "nbformat": 4,
 "nbformat_minor": 5
}
