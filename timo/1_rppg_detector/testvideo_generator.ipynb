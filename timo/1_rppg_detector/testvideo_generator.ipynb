{
 "cells": [
  {
   "cell_type": "markdown",
   "id": "d9df4afe",
   "metadata": {},
   "source": [
    "## Testvideo Generator\n",
    "\n",
    "Loads an image of a person's face and exports a .mp4 clip with a red oscillating overlay. \n",
    "This simulates the blood flow with a specified heart rate for testing and calibrating rPPG accuracy."
   ]
  },
  {
   "cell_type": "code",
   "execution_count": 3,
   "id": "4e288ccd",
   "metadata": {},
   "outputs": [
    {
     "name": "stdout",
     "output_type": "stream",
     "text": [
      "Video saved to _video/p1_120.mp4\n"
     ]
    }
   ],
   "source": [
    "import numpy as np\n",
    "import cv2\n",
    "import math\n",
    "\n",
    "BPM = 120 #desired heart rate\n",
    "DURATION = 10  # duration of the video in seconds\n",
    "FPS = 30  # frames per second of the generated video\n",
    "FREQUENCY = BPM/60  # frequency of the sine wave\n",
    "ALPHA_MAX = 22  # max transparency value for the overlay\n",
    "\n",
    "# Load image\n",
    "file = 'p1'\n",
    "image_path = '_video/'+file+'.jpg'\n",
    "image = cv2.imread(image_path)\n",
    "if image is None:\n",
    "    raise FileNotFoundError(f\"Image at path '{image_path}' not found. Please check the path.\")\n",
    "HEIGHT, WIDTH = image.shape[:2]\n",
    "\n",
    "# Opencv video writer\n",
    "fourcc = cv2.VideoWriter_fourcc(*'mp4v')\n",
    "video_path = '_video/'+file+'_'+str(BPM)+'.mp4'\n",
    "out = cv2.VideoWriter(video_path, fourcc, FPS, (WIDTH, HEIGHT))\n",
    "\n",
    "# Time step for each frame\n",
    "dt = 1.0 / FPS\n",
    "total_frames = int(DURATION * FPS)\n",
    "\n",
    "for frame_idx in range(total_frames):\n",
    "    t = frame_idx * dt # current time\n",
    "    alpha = (1 + math.sin(2 * math.pi * FREQUENCY * t)) / 2 * ALPHA_MAX\n",
    "\n",
    "    # Create and apply the overlay\n",
    "    overlay = image.copy()\n",
    "    cv2.rectangle(overlay, (0, 0), (WIDTH, HEIGHT), (0, 0, 255), -1) # red in BGR\n",
    "    output = cv2.addWeighted(overlay, alpha / 255, image, 1 - alpha / 255, 0)\n",
    "    \n",
    "    # Write the frame to the video\n",
    "    out.write(output)\n",
    "\n",
    "# Export video\n",
    "out.release()\n",
    "print('Video saved to '+ video_path)\n"
   ]
  }
 ],
 "metadata": {
  "kernelspec": {
   "display_name": "Python 3 (ipykernel)",
   "language": "python",
   "name": "python3"
  },
  "language_info": {
   "codemirror_mode": {
    "name": "ipython",
    "version": 3
   },
   "file_extension": ".py",
   "mimetype": "text/x-python",
   "name": "python",
   "nbconvert_exporter": "python",
   "pygments_lexer": "ipython3",
   "version": "3.9.6"
  }
 },
 "nbformat": 4,
 "nbformat_minor": 5
}
